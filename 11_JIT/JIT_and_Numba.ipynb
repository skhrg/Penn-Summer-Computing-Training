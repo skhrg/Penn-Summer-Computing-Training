{
 "cells": [
  {
   "cell_type": "markdown",
   "id": "35f1d146-0111-4059-a604-df397524ee89",
   "metadata": {},
   "source": [
    "# What is JIT"
   ]
  },
  {
   "cell_type": "markdown",
   "id": "419fcf29-7ade-4c1f-971f-1bc8f61b5186",
   "metadata": {},
   "source": [
    "Just-in-time compilation (JIT) is a method for selectively speeding up Python code by compiling specific funtions within a python script. Remember earlier we said coding languages are either compiled (C) or interpreted (Python). JIT is something of a middle-ground between the two. With JIT, a specific function (or functions) is flagged for compiling at run time. The first time that function is called within the code, it will be compiled on the fly by the JIT compiler. This compiled version of the function will then live in memory, and will be used by later calls to the function for a very high performance increase. Note that the first call to the function is actually somewhat slower than if it were not JIT'd, as the compiler has to do its magic to make the compiled function. However generally even one sucessive call will make up the difference. This does mean that JIT generally shines the brightest when applied to functions that are repeatedly called. "
   ]
  },
  {
   "cell_type": "markdown",
   "id": "7cad65c7-6f89-43ce-b1a5-1e1be9048b48",
   "metadata": {},
   "source": [
    "## What should I JIT?"
   ]
  },
  {
   "cell_type": "markdown",
   "id": "2cba39fb-8cba-4f22-a270-7a8ea1fad0ae",
   "metadata": {},
   "source": [
    "In general, JIT compilers are very good at speeding up numerical code and loops in python. It's not particularly good at e.g. string comprehension. Moreover, JIT compilers do not magically know about every package ever written, although they do know some (almost always numpy). To steal an example from numba, this code would benifit greatly from JIT: "
   ]
  },
  {
   "cell_type": "code",
   "execution_count": null,
   "id": "505c2635-cd0e-447b-8acc-31dc951d9e25",
   "metadata": {},
   "outputs": [],
   "source": [
    "def go_fast(a): # Function is compiled to machine code when called the first time\n",
    "    trace = 0.0\n",
    "    for i in range(a.shape[0]):   # Numba likes loops\n",
    "        trace += np.tanh(a[i, i]) # Numba likes NumPy functions\n",
    "    return a + trace              # Numba likes NumPy broadcasting\n",
    "\n",
    "print(go_fast(x))"
   ]
  },
  {
   "cell_type": "markdown",
   "id": "d258640b-b52e-4e0d-882a-f84b1ba8300c",
   "metadata": {},
   "source": [
    "while JIT-ing the following code would do almost nothing, and indeed is not possible with some JIT compilers"
   ]
  },
  {
   "cell_type": "code",
   "execution_count": null,
   "id": "886cb5af-8e8d-4222-ac92-340ddfe98109",
   "metadata": {},
   "outputs": [],
   "source": [
    "def use_pandas(a): # Function will not benefit from Numba jit\n",
    "    df = pd.DataFrame.from_dict(a) # Numba doesn't know about pd.DataFrame\n",
    "    df += 1                        # Numba doesn't understand what this is\n",
    "    return df.cov()                # or this!\n",
    "\n",
    "print(use_pandas(x))"
   ]
  },
  {
   "cell_type": "markdown",
   "id": "267a3809-3ff4-4f55-bf14-071afcc708a9",
   "metadata": {},
   "source": [
    "The use cases where JIT is appropriate, however, are generally the performance taxing poritions of your code. It's generally the computations which take a lot of time, and not, say, plotting results. "
   ]
  },
  {
   "cell_type": "markdown",
   "id": "f13ed4cf-2034-4b27-8991-d15f30de464c",
   "metadata": {},
   "source": [
    "## How do I JIT?"
   ]
  },
  {
   "cell_type": "markdown",
   "id": "8ddb67ef-5edb-4bf3-bed8-de936ebcd628",
   "metadata": {},
   "source": [
    "JIT-ing a function is almost trivially easy. First you need a JIT compiler; in the case of Python, these are packages which can be conda (or pip) installed. The two most popular options by far are Numba and jax. Generally the performance of these two packages is equivalent, and they support largely the same features (e.g., direct compilation to GPU, automatic vectorization, etc.). They differ in their backend, XLA for jax vs LLVM for Numba. It's not particularly important what those backends are; the key point is that jax supports one large feature, automatic differentiation of arbitrary functions, that Numba does not support. The trade off is that JIT-ing functions with jax imposes some tricky restrictions on what code you can write (e.g., jax arrays are completely immutable, jax functions must be pure). I would reccomend sticking to Numba unless you know you need the features that jax provides. In that case, reading the [jax sharp bits documentation](https://jax.readthedocs.io/en/latest/notebooks/Common_Gotchas_in_JAX.html) can help you get the hang of coding with jax."
   ]
  },
  {
   "cell_type": "markdown",
   "id": "9a54da97-b578-4fc4-a972-688a54b93f33",
   "metadata": {},
   "source": [
    "## Coding with Numba"
   ]
  },
  {
   "cell_type": "markdown",
   "id": "908b324c-9dd4-4a1f-8c24-add277838bb6",
   "metadata": {},
   "source": [
    "Coding with Numba is as easy as coding with numpy. In fact, Numba was built to work with numpy, and is natively very, very good at JIT-ing code that is largely numpy. First, we import Numba (and numpy). Then, to JIT a function, we simply prepend the function with the `@jit` decorator:"
   ]
  },
  {
   "cell_type": "code",
   "execution_count": 12,
   "id": "ba543618-22af-4e0b-b71b-a6dfa33288ad",
   "metadata": {},
   "outputs": [
    {
     "name": "stdout",
     "output_type": "stream",
     "text": [
      "Elapsed (with compilation) = 0.13916220399551094s\n",
      "Elapsed (after compilation) = 3.3343909308314323e-05s\n"
     ]
    }
   ],
   "source": [
    "#Example courtousy of Numba\n",
    "\n",
    "from numba import jit\n",
    "import numpy as np\n",
    "import time\n",
    "\n",
    "x = np.arange(100).reshape(10, 10)\n",
    "\n",
    "@jit(nopython=True)\n",
    "def go_fast(a): # Function is compiled and runs in machine code\n",
    "    trace = 0.0\n",
    "    for i in range(a.shape[0]):\n",
    "        trace += np.tanh(a[i, i])\n",
    "    return a + trace\n",
    "\n",
    "def go_slow(a): # Function is compiled and runs in machine code\n",
    "    trace = 0.0\n",
    "    for i in range(a.shape[0]):\n",
    "        trace += np.tanh(a[i, i])\n",
    "    return a + trace\n",
    "\n",
    "# DO NOT REPORT THIS... COMPILATION TIME IS INCLUDED IN THE EXECUTION TIME!\n",
    "start = time.perf_counter()\n",
    "go_fast(x)\n",
    "end = time.perf_counter()\n",
    "print(\"Elapsed (with compilation) = {}s\".format((end - start)))\n",
    "\n",
    "# NOW THE FUNCTION IS COMPILED, RE-TIME IT EXECUTING FROM CACHE\n",
    "start = time.perf_counter()\n",
    "go_fast(x)\n",
    "end = time.perf_counter()\n",
    "compiled = end - start\n",
    "print(\"Elapsed (after compilation) = {}s\".format(compiled))\n"
   ]
  },
  {
   "cell_type": "markdown",
   "id": "bca8f5a0-6e85-4ba5-855f-b6f5de8906eb",
   "metadata": {},
   "source": [
    "Note the argument `nopython=True` in the above `@jit` decorator. This tells the compiler to attempt to compile the code with no reference to the Python interpreter whatsoever. This is much faster, however it will fail if objects outside the numpy scope are passed to or called within the function. See the above example where a Pandas dataframe is called within `use_pandas`. In that case, Numba will fall back to an object aware mode, which involves the interpreter. This is much slower, and should be avoided if at all possible. In general this involves \"deconstructing\" objects which you pass to Numba. In the below contrived example, we have a data class, which contains the data as well as other attributes such as housekeeping data and the date. If we write a function to take in the full class as an argument, Numba will fail:"
   ]
  },
  {
   "cell_type": "code",
   "execution_count": 29,
   "id": "4dfaa6e4-f233-417f-ae67-56c3a0796933",
   "metadata": {},
   "outputs": [
    {
     "ename": "TypingError",
     "evalue": "Failed in nopython mode pipeline (step: nopython frontend)\nnon-precise type pyobject\nDuring: typing of argument at /tmp/ipykernel_323893/3844633038.py (13)\n\nFile \"../../../../../tmp/ipykernel_323893/3844633038.py\", line 13:\n<source missing, REPL/exec in use?> \n\nThis error may have been caused by the following argument(s):\n- argument 0: Cannot determine Numba type of <class '__main__.TOD'> \n\nThis error may have been caused by the following argument(s):\n- argument 0: Cannot determine Numba type of <class '__main__.TOD'> \n\nThis error may have been caused by the following argument(s):\n- argument 0: Cannot determine Numba type of <class '__main__.TOD'> \n\nThis error may have been caused by the following argument(s):\n- argument 0: Cannot determine Numba type of <class '__main__.TOD'>\n",
     "output_type": "error",
     "traceback": [
      "\u001b[0;31m---------------------------------------------------------------------------\u001b[0m",
      "\u001b[0;31mTypingError\u001b[0m                               Traceback (most recent call last)",
      "Cell \u001b[0;32mIn[29], line 17\u001b[0m\n\u001b[1;32m     13\u001b[0m \u001b[38;5;129m@jit\u001b[39m(nopython\u001b[38;5;241m=\u001b[39m\u001b[38;5;28;01mTrue\u001b[39;00m)\n\u001b[1;32m     14\u001b[0m \u001b[38;5;28;01mdef\u001b[39;00m \u001b[38;5;21mjit_fft_bad\u001b[39m(TOD): \u001b[38;5;66;03m#IDK why we're taking a sin of our data\u001b[39;00m\n\u001b[1;32m     15\u001b[0m     \u001b[38;5;28;01mreturn\u001b[39;00m np\u001b[38;5;241m.\u001b[39msin(TOD\u001b[38;5;241m.\u001b[39mdata)\n\u001b[0;32m---> 17\u001b[0m \u001b[43mjit_fft\u001b[49m\u001b[43m(\u001b[49m\u001b[43mmy_TOD\u001b[49m\u001b[43m)\u001b[49m\n",
      "File \u001b[0;32m~/venvs/general/lib64/python3.9/site-packages/numba/core/dispatcher.py:468\u001b[0m, in \u001b[0;36m_DispatcherBase._compile_for_args\u001b[0;34m(self, *args, **kws)\u001b[0m\n\u001b[1;32m    464\u001b[0m         msg \u001b[38;5;241m=\u001b[39m (\u001b[38;5;124mf\u001b[39m\u001b[38;5;124m\"\u001b[39m\u001b[38;5;132;01m{\u001b[39;00m\u001b[38;5;28mstr\u001b[39m(e)\u001b[38;5;241m.\u001b[39mrstrip()\u001b[38;5;132;01m}\u001b[39;00m\u001b[38;5;124m \u001b[39m\u001b[38;5;130;01m\\n\u001b[39;00m\u001b[38;5;130;01m\\n\u001b[39;00m\u001b[38;5;124mThis error may have been caused \u001b[39m\u001b[38;5;124m\"\u001b[39m\n\u001b[1;32m    465\u001b[0m                \u001b[38;5;124mf\u001b[39m\u001b[38;5;124m\"\u001b[39m\u001b[38;5;124mby the following argument(s):\u001b[39m\u001b[38;5;130;01m\\n\u001b[39;00m\u001b[38;5;132;01m{\u001b[39;00margs_str\u001b[38;5;132;01m}\u001b[39;00m\u001b[38;5;130;01m\\n\u001b[39;00m\u001b[38;5;124m\"\u001b[39m)\n\u001b[1;32m    466\u001b[0m         e\u001b[38;5;241m.\u001b[39mpatch_message(msg)\n\u001b[0;32m--> 468\u001b[0m     \u001b[43merror_rewrite\u001b[49m\u001b[43m(\u001b[49m\u001b[43me\u001b[49m\u001b[43m,\u001b[49m\u001b[43m \u001b[49m\u001b[38;5;124;43m'\u001b[39;49m\u001b[38;5;124;43mtyping\u001b[39;49m\u001b[38;5;124;43m'\u001b[39;49m\u001b[43m)\u001b[49m\n\u001b[1;32m    469\u001b[0m \u001b[38;5;28;01mexcept\u001b[39;00m errors\u001b[38;5;241m.\u001b[39mUnsupportedError \u001b[38;5;28;01mas\u001b[39;00m e:\n\u001b[1;32m    470\u001b[0m     \u001b[38;5;66;03m# Something unsupported is present in the user code, add help info\u001b[39;00m\n\u001b[1;32m    471\u001b[0m     error_rewrite(e, \u001b[38;5;124m'\u001b[39m\u001b[38;5;124munsupported_error\u001b[39m\u001b[38;5;124m'\u001b[39m)\n",
      "File \u001b[0;32m~/venvs/general/lib64/python3.9/site-packages/numba/core/dispatcher.py:409\u001b[0m, in \u001b[0;36m_DispatcherBase._compile_for_args.<locals>.error_rewrite\u001b[0;34m(e, issue_type)\u001b[0m\n\u001b[1;32m    407\u001b[0m     \u001b[38;5;28;01mraise\u001b[39;00m e\n\u001b[1;32m    408\u001b[0m \u001b[38;5;28;01melse\u001b[39;00m:\n\u001b[0;32m--> 409\u001b[0m     \u001b[38;5;28;01mraise\u001b[39;00m e\u001b[38;5;241m.\u001b[39mwith_traceback(\u001b[38;5;28;01mNone\u001b[39;00m)\n",
      "\u001b[0;31mTypingError\u001b[0m: Failed in nopython mode pipeline (step: nopython frontend)\nnon-precise type pyobject\nDuring: typing of argument at /tmp/ipykernel_323893/3844633038.py (13)\n\nFile \"../../../../../tmp/ipykernel_323893/3844633038.py\", line 13:\n<source missing, REPL/exec in use?> \n\nThis error may have been caused by the following argument(s):\n- argument 0: Cannot determine Numba type of <class '__main__.TOD'> \n\nThis error may have been caused by the following argument(s):\n- argument 0: Cannot determine Numba type of <class '__main__.TOD'> \n\nThis error may have been caused by the following argument(s):\n- argument 0: Cannot determine Numba type of <class '__main__.TOD'> \n\nThis error may have been caused by the following argument(s):\n- argument 0: Cannot determine Numba type of <class '__main__.TOD'>\n"
     ]
    }
   ],
   "source": [
    "class TOD:\n",
    "    def __init__(self, data, housekeeping, date):\n",
    "        self.data = data\n",
    "        self.housekeeping = housekeeping\n",
    "        self.date = date\n",
    "\n",
    "my_data = np.random.rand(150, 10000)\n",
    "my_housekeeping = np.random.rand(5, 10000)\n",
    "my_date = \"June 1, 2024\"\n",
    "\n",
    "my_TOD = TOD(my_data, my_housekeeping, my_date)\n",
    "\n",
    "@jit(nopython=True)\n",
    "def jit_fft_bad(TOD): #IDK why we're taking a sin of our data\n",
    "    return np.sin(TOD.data)\n",
    "\n",
    "jit_fft(my_TOD)"
   ]
  },
  {
   "cell_type": "markdown",
   "id": "b5ec04c7-5fe4-401b-9f01-87731612d5a0",
   "metadata": {},
   "source": [
    "If we instead write it to take a numpy array as its argument and pass it `my_TOD.data`, it will succeed:"
   ]
  },
  {
   "cell_type": "code",
   "execution_count": 32,
   "id": "7d5c0a99-0407-4da4-a903-5201f82794b4",
   "metadata": {},
   "outputs": [
    {
     "data": {
      "text/plain": [
       "array([[5.82749896e-01, 5.58756162e-01, 3.67827394e-01, ...,\n",
       "        8.25043924e-01, 6.66373835e-01, 6.92616439e-01],\n",
       "       [1.46209823e-01, 3.08533492e-02, 7.28769822e-01, ...,\n",
       "        3.72495531e-01, 4.93774063e-01, 5.57428505e-01],\n",
       "       [8.32212642e-01, 5.56117264e-01, 6.21674391e-01, ...,\n",
       "        5.13366140e-01, 5.43360493e-01, 7.47630492e-01],\n",
       "       ...,\n",
       "       [5.28097610e-01, 5.24873373e-01, 4.13912628e-01, ...,\n",
       "        6.29261231e-01, 2.35466710e-01, 7.75887593e-01],\n",
       "       [5.05065489e-01, 5.34624834e-01, 4.70674399e-01, ...,\n",
       "        7.21044899e-01, 2.76443731e-01, 8.14298097e-01],\n",
       "       [6.69978058e-02, 4.79798892e-01, 7.57841785e-01, ...,\n",
       "        2.95194044e-01, 2.03142847e-04, 8.41174483e-01]])"
      ]
     },
     "execution_count": 32,
     "metadata": {},
     "output_type": "execute_result"
    }
   ],
   "source": [
    "@jit(nopython=True)\n",
    "def jit_fft_good(data):\n",
    "    return np.sin(data)\n",
    "\n",
    "jit_fft_good(my_TOD.data)"
   ]
  },
  {
   "cell_type": "code",
   "execution_count": null,
   "id": "3477514a-caa1-4a3c-9e4f-99faf752162b",
   "metadata": {},
   "outputs": [],
   "source": []
  }
 ],
 "metadata": {
  "kernelspec": {
   "display_name": "general",
   "language": "python",
   "name": "general"
  },
  "language_info": {
   "codemirror_mode": {
    "name": "ipython",
    "version": 3
   },
   "file_extension": ".py",
   "mimetype": "text/x-python",
   "name": "python",
   "nbconvert_exporter": "python",
   "pygments_lexer": "ipython3",
   "version": "3.9.18"
  }
 },
 "nbformat": 4,
 "nbformat_minor": 5
}
