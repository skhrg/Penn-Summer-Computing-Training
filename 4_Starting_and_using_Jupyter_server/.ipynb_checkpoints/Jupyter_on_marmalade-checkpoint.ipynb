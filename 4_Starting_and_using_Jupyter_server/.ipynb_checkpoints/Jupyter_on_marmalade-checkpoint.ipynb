{
 "cells": [
  {
   "cell_type": "markdown",
   "id": "cf3b1e84-7dbe-4085-96fc-f9f8c76cda4c",
   "metadata": {},
   "source": [
    "## Starting a Jupyter notebook on devlinlab01"
   ]
  },
  {
   "cell_type": "markdown",
   "id": "81de32ae-4e8d-465f-a818-289d5da2f804",
   "metadata": {},
   "source": [
    "On devlinlab, start by making sure you have jupyter installed. The do: \n",
    "\n",
    "`jupyter notebook --no-browser --port=8080`\n",
    "\n",
    "\n",
    "This will not automatically launch a browser window on your machine, but give you an address to copy+paste into your browser. Also, simply doing that won't work. \n",
    "\n",
    "Now, we've launched jupyter on a compute node. We need to connect the local machine to that specific node. We do this with two commands, a slightly different SSH\n",
    "\n",
    "`ssh -L 8080:localhost:8080 jorlo@devlinlab01.physics.upenn.edu`\n",
    "\n",
    "\n",
    "Now, we can copy+paste the url the first command created into a browser and that should launch a Jupyter server! "
   ]
  },
  {
   "cell_type": "markdown",
   "id": "439f038e-5020-49f8-bcf1-4233f40c3904",
   "metadata": {},
   "source": [
    "## ipykernel and virtual environments"
   ]
  },
  {
   "cell_type": "markdown",
   "id": "0307cd06-8938-450a-b7bc-654f54a51847",
   "metadata": {},
   "source": [
    "To properly use a jupyter notebook, you'll likely want to use a jupyter notebook with a kernel which matches the environment you code in. To do so, first activate the virtual environment you would like to create a kernel for. Install jupyter in this environemtn, then ipykernel if it didn't install when you pip install jupyter. Then do\n",
    "\n",
    "`python -m ipykernel install --user --name=NEWENVNAME`\n",
    "\n",
    "where NEWENVNAME is the display name you'd like for the jupyter-kernel. You should then be able to select the kenrel from the top right of the jupyter notebook."
   ]
  },
  {
   "cell_type": "markdown",
   "id": "9bf0f74d-d527-4462-908d-b6e35a45bc68",
   "metadata": {},
   "source": [
    "## How to use jupyter notebooks"
   ]
  },
  {
   "cell_type": "markdown",
   "id": "5b633215-7af0-4a9d-8fde-e9713ac18173",
   "metadata": {},
   "source": [
    "Jupyter notebooks function somewhat similarly to ipython sessions, as they represent a \"persistent\" coding environment in which variables, functions, etc. are stored in memory for the duration of the session. This differs from a script, which runs through from start to finish, with all objects being deleted at the end of evaluation. Whereas ipython has a terminal-like interface, jupyter uses a \"cell\" based interface, which you can see here. All code lives in cells, which you can evaluate by pressing `shift-enter` while in the cell. Cells also contain markdown, as these cells do. To create a new cell, press the `plus` button. This will create and empty cell:"
   ]
  },
  {
   "cell_type": "code",
   "execution_count": null,
   "id": "c73d0fb1-d1aa-463f-8917-f8bd967fe916",
   "metadata": {},
   "outputs": [],
   "source": []
  },
  {
   "cell_type": "markdown",
   "id": "58f1b5b7-0b3c-4bc0-93ed-e9f7f8ff441c",
   "metadata": {},
   "source": [
    "We can now type code into the cell and press enter to evaluate."
   ]
  },
  {
   "cell_type": "code",
   "execution_count": 1,
   "id": "e13c90a7-cfb3-4710-92ca-1973bdf069b1",
   "metadata": {},
   "outputs": [
    {
     "name": "stdout",
     "output_type": "stream",
     "text": [
      "Hello World!\n"
     ]
    }
   ],
   "source": [
    "print(\"Hello World!\")"
   ]
  },
  {
   "cell_type": "markdown",
   "id": "495fb7d4-8e85-4e50-92f7-e2dab6e11191",
   "metadata": {},
   "source": [
    "For code cells, the output of the cell will now appear. This output will persist until the notebook is run again. In addition to the cell output, variables, functions, etc will persist once initialized until explicitly deconstructed:"
   ]
  },
  {
   "cell_type": "code",
   "execution_count": 2,
   "id": "3ed0a19d-a1f8-4443-b35b-72e34a74518b",
   "metadata": {},
   "outputs": [],
   "source": [
    "x = 10"
   ]
  },
  {
   "cell_type": "code",
   "execution_count": 3,
   "id": "ffd45ca2-89cd-4d40-a473-364a5480ecc5",
   "metadata": {},
   "outputs": [
    {
     "data": {
      "text/plain": [
       "10"
      ]
     },
     "execution_count": 3,
     "metadata": {},
     "output_type": "execute_result"
    }
   ],
   "source": [
    "x"
   ]
  },
  {
   "cell_type": "markdown",
   "id": "2f23d6b5-c8c7-4610-9564-c90ab7fa2fbd",
   "metadata": {},
   "source": [
    "Note above that `x` has persisted from one cell to another. **Note**, this can create very unexpected behavior:"
   ]
  },
  {
   "cell_type": "code",
   "execution_count": null,
   "id": "0c572d3d-aa1c-464e-9a98-7d3b83281858",
   "metadata": {},
   "outputs": [],
   "source": [
    "#evaluate this cell once and it will print 10. Evaluate it again and it will print 20.\n",
    "\n",
    "print(x)\n",
    "x += 10"
   ]
  },
  {
   "cell_type": "markdown",
   "id": "92e51a00-f848-4226-a3ac-c0b1ce1dc8b7",
   "metadata": {},
   "source": [
    "Even worse, deleting cells does not delete their contents in memory. Only calling `del` will remove variables"
   ]
  },
  {
   "cell_type": "code",
   "execution_count": 6,
   "id": "5d86a82c-3257-4792-a1d9-24c601aa4e56",
   "metadata": {},
   "outputs": [
    {
     "ename": "NameError",
     "evalue": "name 'x' is not defined",
     "output_type": "error",
     "traceback": [
      "\u001b[0;31m---------------------------------------------------------------------------\u001b[0m",
      "\u001b[0;31mNameError\u001b[0m                                 Traceback (most recent call last)",
      "Cell \u001b[0;32mIn[6], line 2\u001b[0m\n\u001b[1;32m      1\u001b[0m \u001b[38;5;28;01mdel\u001b[39;00m x\n\u001b[0;32m----> 2\u001b[0m \u001b[38;5;28mprint\u001b[39m(\u001b[43mx\u001b[49m)\n",
      "\u001b[0;31mNameError\u001b[0m: name 'x' is not defined"
     ]
    }
   ],
   "source": [
    "del x\n",
    "print(x)"
   ]
  },
  {
   "cell_type": "markdown",
   "id": "45000f78-d9f3-456a-9f66-1768d9348a95",
   "metadata": {},
   "source": [
    "The small number in `[]` next to the cell tracks the order of cell evaluation, and can help in tracking down issues. When in doubt, the safest thing to do is to click `kernel` then click `restart kernel and run all`. "
   ]
  },
  {
   "cell_type": "markdown",
   "id": "3d391849-e0fd-4e5f-9a30-934b3c2a16ba",
   "metadata": {},
   "source": [
    "## When to use jupyter notebooks"
   ]
  },
  {
   "cell_type": "markdown",
   "id": "705d27d6-c159-4285-9ec8-b475fc9cd277",
   "metadata": {},
   "source": [
    "Generally jupyter notebooks should not be used for production. By that I mean, do not run performant code on a jupyter notebook. If the code takes more than a few minutes to run, do not run it on a jupyter notebook. This code should instead be transfered to a script and run on a compute node. The use cases for jupyter notebooks are generally similar to those of ipython;\n",
    "\n",
    "1. Quick look at data. This is probably where Jupyter shines the brightest. Jupyter is great for opening a dataset or map, and playing around with it, e.g. making simple histograms.\n",
    "\n",
    "2. Making plots/data visualization. In particular, since cell outputs are static, it makes it easier to compare plots.\n",
    "\n",
    "3. Debugging. In general this should be done with care, as jupyter variables are persistent and can confuse debugging than they help. Generally debugging \"physics\" in jupyter notebooks works while debugging code is inadvisable. "
   ]
  },
  {
   "cell_type": "code",
   "execution_count": null,
   "id": "98bfff88-b0f1-40ad-a9f7-5ff493b4bacb",
   "metadata": {},
   "outputs": [],
   "source": []
  },
  {
   "cell_type": "code",
   "execution_count": null,
   "id": "3c7cb098-75b8-42a0-88a3-fd467607eda8",
   "metadata": {},
   "outputs": [],
   "source": []
  }
 ],
 "metadata": {
  "kernelspec": {
   "display_name": "general",
   "language": "python",
   "name": "general"
  },
  "language_info": {
   "codemirror_mode": {
    "name": "ipython",
    "version": 3
   },
   "file_extension": ".py",
   "mimetype": "text/x-python",
   "name": "python",
   "nbconvert_exporter": "python",
   "pygments_lexer": "ipython3",
   "version": "3.9.18"
  }
 },
 "nbformat": 4,
 "nbformat_minor": 5
}
